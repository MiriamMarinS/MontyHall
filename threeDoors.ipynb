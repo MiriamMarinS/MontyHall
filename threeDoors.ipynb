{
 "cells": [
  {
   "cell_type": "code",
   "execution_count": 4,
   "id": "applied-tobacco",
   "metadata": {},
   "outputs": [],
   "source": [
    "import random"
   ]
  },
  {
   "cell_type": "code",
   "execution_count": 31,
   "id": "consolidated-magnitude",
   "metadata": {},
   "outputs": [],
   "source": [
    "def election(change, coche):\n",
    "    doors = [\"Cabra\", \"Cabra\", \"Coche\"]\n",
    "    first_door = random.choice(doors) # Choose any item in the list\n",
    "    if change == \"YES\":\n",
    "        doors.remove(first_door)\n",
    "        if any(item == \"Coche\" for item in doors):\n",
    "            coche += 1\n",
    "    else:\n",
    "        if first_door == \"Coche\":\n",
    "            coche += 1\n",
    "    return(coche)"
   ]
  },
  {
   "cell_type": "code",
   "execution_count": 32,
   "id": "administrative-alfred",
   "metadata": {},
   "outputs": [
    {
     "name": "stdout",
     "output_type": "stream",
     "text": [
      "66.703\n"
     ]
    }
   ],
   "source": [
    "N = 1000000\n",
    "change = \"YES\"\n",
    "coche = 0\n",
    "\n",
    "for n in range(0,N):\n",
    "    coche = election(change, coche)\n",
    "\n",
    "p = (coche/N)*100\n",
    "print(p)"
   ]
  },
  {
   "cell_type": "code",
   "execution_count": 33,
   "id": "understood-webster",
   "metadata": {},
   "outputs": [
    {
     "name": "stdout",
     "output_type": "stream",
     "text": [
      "33.333200000000005\n"
     ]
    }
   ],
   "source": [
    "N = 1000000\n",
    "change = \"NO\"\n",
    "coche = 0\n",
    "\n",
    "for n in range(0,N):\n",
    "    coche = election(change, coche)\n",
    "\n",
    "p = (coche/N)*100\n",
    "print(p)"
   ]
  },
  {
   "cell_type": "code",
   "execution_count": null,
   "id": "challenging-gregory",
   "metadata": {},
   "outputs": [],
   "source": []
  }
 ],
 "metadata": {
  "kernelspec": {
   "display_name": "Python 3",
   "language": "python",
   "name": "python3"
  },
  "language_info": {
   "codemirror_mode": {
    "name": "ipython",
    "version": 3
   },
   "file_extension": ".py",
   "mimetype": "text/x-python",
   "name": "python",
   "nbconvert_exporter": "python",
   "pygments_lexer": "ipython3",
   "version": "3.7.6"
  }
 },
 "nbformat": 4,
 "nbformat_minor": 5
}
